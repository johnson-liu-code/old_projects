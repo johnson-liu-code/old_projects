{
 "cells": [
  {
   "cell_type": "code",
   "execution_count": 55,
   "metadata": {},
   "outputs": [
    {
     "data": {
      "text/plain": [
       "0.3359853579042963"
      ]
     },
     "execution_count": 55,
     "metadata": {},
     "output_type": "execute_result"
    }
   ],
   "source": [
    "import numpy as np\n",
    "import matplotlib.pyplot as plt\n",
    "\n",
    "r1 = np.linspace(0, 4, 1000)\n",
    "x1 = np.exp((-r1**2) / 2) / (2*np.pi)**(3/2)\n",
    "y1 = np.multiply(r1**2, x1)\n",
    "\n",
    "%matplotlib inline\n",
    "# plt.plot(r1, y1)\n",
    "\n",
    "dim = 3\n",
    "dt = 1e-2\n",
    "E_t = 3./2\n",
    "num_bins = 100\n",
    "N_t = 300\n",
    "\n",
    "def V(r):\n",
    "    rSqd = 0\n",
    "    for d in range(dim):\n",
    "        rSqd += r[d] * r[d]\n",
    "    \n",
    "    return rSqd / 2\n",
    "\n",
    "def zeroAcumulators():\n",
    "    Esum, ESqdSum = 0, 0\n",
    "    psi = np.zeros(num_bins)\n",
    "    \n",
    "    return Esum, ESqdSum, psi\n",
    "\n",
    "def initialize():\n",
    "    N = N_t\n",
    "    r = [ np.random.uniform(0, 1, dim) - .5 for n in range(N_t)]\n",
    "    \n",
    "    alive = [True for n in range(N_t)]\n",
    "    \n",
    "    Esum, ESqdSum, psi = zeroAcumulators()\n",
    "    E_T = 0\n",
    "    \n",
    "    return r, alive\n",
    "\n",
    "def oneMonteCarloStep(r, alive, n):\n",
    "    for d in range(dim):\n",
    "        r[n][d] += np.random.normal(0, 1)\n",
    "    \n",
    "    q = np.exp(-dt * (V(r[n]) - E_T))\n",
    "    survivors = int(q)\n",
    "    \n",
    "    if q - survivors > np.random.uniform(0, 1):\n",
    "        survivors++\n",
    "    \n",
    "    for s in range(survivors):\n",
    "        r.append( np.zeros(dim) )\n",
    "        for d in range(dim):\n",
    "            r[N][d] = r[n][d]\n",
    "        alive.append(True)\n",
    "        N++\n",
    "    if survivors == 0:\n",
    "        alive[n] = False\n",
    "\n",
    "    return r, alive\n",
    "\n",
    "def oneTimeStep(r, alive):\n",
    "    N_0 = N\n",
    "    for n in range(N_0):\n",
    "        oneMonteCarloStep(r, alive, n)\n",
    "    \n",
    "    r = [ind for c, ind in enumerate(r) if alive[c] == True]\n",
    "    \n",
    "    "
   ]
  }
 ],
 "metadata": {
  "kernelspec": {
   "display_name": "Python 3",
   "language": "python",
   "name": "python3"
  },
  "language_info": {
   "codemirror_mode": {
    "name": "ipython",
    "version": 3
   },
   "file_extension": ".py",
   "mimetype": "text/x-python",
   "name": "python",
   "nbconvert_exporter": "python",
   "pygments_lexer": "ipython3",
   "version": "3.6.7"
  }
 },
 "nbformat": 4,
 "nbformat_minor": 2
}
